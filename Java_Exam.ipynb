{
  "nbformat": 4,
  "nbformat_minor": 0,
  "metadata": {
    "colab": {
      "name": "Java_Exam.ipynb",
      "provenance": []
    },
    "kernelspec": {
      "name": "python3",
      "display_name": "Python 3"
    },
    "language_info": {
      "name": "python"
    }
  },
  "cells": [
    {
      "cell_type": "markdown",
      "metadata": {
        "id": "_6IF7bGUDnoF"
      },
      "source": [
        "# Java Loops II"
      ]
    },
    {
      "cell_type": "markdown",
      "metadata": {
        "id": "JXRc_8lzDule"
      },
      "source": [
        "## https://www.hackerrank.com/challenges/java-loops/problem"
      ]
    },
    {
      "cell_type": "code",
      "metadata": {
        "id": "698copx-Dl1x"
      },
      "source": [
        "import java.io.*;\n",
        "import java.util.*;\n",
        "import java.text.*;\n",
        "import java.math.*;\n",
        "import java.util.regex.*;\n",
        "\n",
        "public class Solution {\n",
        "\n",
        "    public static void main(String[] args) {\n",
        "        Scanner in=new Scanner(System.in);\n",
        "            int t,a,b,n,k,sum,i;\n",
        "            t=in.nextInt();\n",
        "        while(t-->0){\n",
        "            a=in.nextInt();\n",
        "        b=in.nextInt();\n",
        "        n=in.nextInt();\n",
        "        sum=a;\n",
        "        for(i=1,k=0;k<n;i=i*2,k++){\n",
        "            sum+=i*b;\n",
        "            System.out.print(sum+\"\\t\");\n",
        "        }\n",
        "        System.out.println();\n",
        "        }\n",
        "    }\n",
        "}"
      ],
      "execution_count": null,
      "outputs": []
    },
    {
      "cell_type": "markdown",
      "metadata": {
        "id": "0mCCT0FMD4tM"
      },
      "source": [
        "# Java Stack"
      ]
    },
    {
      "cell_type": "markdown",
      "metadata": {
        "id": "TtdbP29tEEl7"
      },
      "source": [
        "## https://www.hackerrank.com/challenges/java-stack/problem"
      ]
    },
    {
      "cell_type": "code",
      "metadata": {
        "id": "U5Gj9XpKEI-o"
      },
      "source": [
        "import java.util.*;\n",
        "public class JavaStack {\n",
        "public static void main(String args[])\n",
        "{\n",
        "\t\n",
        "\tScanner s=new Scanner(System.in);\n",
        "\twhile(s.hasNext())\n",
        "\t{\n",
        "\t\tString a=s.nextLine();\n",
        "\t\tStack sk=new Stack();\n",
        "\t\tfor(int i=0;i<a.length();i++)\n",
        "\t\t{\n",
        "\t\t\tchar ch=a.charAt(i);\n",
        "\t\t\tsk.add(ch);\n",
        "\t\t}\n",
        "\t\tint f=1;\n",
        "\t\tint c1=0,c2=0,c3=0;\n",
        "\t\tfor(int i=a.length()-1;i>=0;i--)\n",
        "\t\t{\n",
        "\t\t\tchar ch=(char)sk.pop();\n",
        "\t\t\t\n",
        "\t\t\tif(ch=='}')\n",
        "\t\t\t{\n",
        "\t\t\t\tc1++;\n",
        "\t\t\t}\n",
        "\t\t\telse if(ch==']')\n",
        "\t\t\t{\n",
        "\t\t\t\tc2++;\n",
        "\t\t\t}\n",
        "\t\t\telse if(ch==')')\n",
        "\t\t\t\t {\n",
        "\t\t\t\t\t c3++;\n",
        "\t\t\t\t }\n",
        "\t\t\telse if(ch=='{')\n",
        "\t\t\t{\n",
        "\t\t\t\tif(c1>0)\n",
        "\t\t\t\t{\n",
        "\t\t\t\t\tc1--;\n",
        "\t\t\t\t}\n",
        "\t\t\t\telse\n",
        "\t\t\t\t{\n",
        "\t\t\t\t\tf=0;\n",
        "\t\t\t\t\tbreak;\n",
        "\t\t\t\t}\n",
        "\t\t\t}\n",
        "\t\t\telse if(ch=='[')\n",
        "\t\t\t{\n",
        "\t\t\t\tif(c2>0)\n",
        "\t\t\t\t{\n",
        "\t\t\t\t\tc2--;\n",
        "\t\t\t\t}\n",
        "\t\t\t\telse\n",
        "\t\t\t\t{\n",
        "\t\t\t\t\tf=0;\n",
        "\t\t\t\t\tbreak;\n",
        "\t\t\t\t}\n",
        "\t\t\t}\n",
        "\t\t\telse if(ch=='(')\n",
        "\t\t\t{\n",
        "\t\t\t\tif(c3>0)\n",
        "\t\t\t\t{\n",
        "\t\t\t\t\tc3--;\n",
        "\t\t\t\t}\n",
        "\t\t\t\telse\n",
        "\t\t\t\t{\n",
        "\t\t\t\t\tf=0;\n",
        "\t\t\t\t\tbreak;\n",
        "\t\t\t\t}\n",
        "\t\t\t}\n",
        "\t\t}\n",
        "\t\t\n",
        "\t\t if(c1==0&&c2==0&&c3==0&&f==1)\n",
        "\t\t\tSystem.out.println(\"true\");\n",
        "\t\t else\n",
        "\t\t\t System.out.println(\"false\");\n",
        "\t\t \n",
        "\t}\n",
        "}\n",
        "}"
      ],
      "execution_count": null,
      "outputs": []
    },
    {
      "cell_type": "markdown",
      "metadata": {
        "id": "EVGrqyAQEJqj"
      },
      "source": [
        "# Java Substring"
      ]
    },
    {
      "cell_type": "markdown",
      "metadata": {
        "id": "KAv6NDzzEOt7"
      },
      "source": [
        "## https://www.hackerrank.com/challenges/java-substring/problem"
      ]
    },
    {
      "cell_type": "code",
      "metadata": {
        "id": "y5froBnIETGX"
      },
      "source": [
        "import java.io.*;\n",
        "import java.util.*;\n",
        "import java.text.*;\n",
        "import java.math.*;\n",
        "import java.util.regex.*;\n",
        "\n",
        "public class Solution {\n",
        "\n",
        "    public static void main(String[] args) {\n",
        "        Scanner in = new Scanner(System.in);\n",
        "        String S = in.next();\n",
        "        int start = in.nextInt();\n",
        "        int end = in.nextInt();\n",
        "        System.out.println(S.substring(start,end));\n",
        "    }\n",
        "}"
      ],
      "execution_count": null,
      "outputs": []
    },
    {
      "cell_type": "markdown",
      "metadata": {
        "id": "wcFbVmrwETsN"
      },
      "source": [
        "# Java Inheritance II"
      ]
    },
    {
      "cell_type": "markdown",
      "metadata": {
        "id": "vL9Yc2oMEgn_"
      },
      "source": [
        "## https://www.hackerrank.com/challenges/java-inheritance-2/problem"
      ]
    },
    {
      "cell_type": "code",
      "metadata": {
        "id": "t_t7u0nhEgTM"
      },
      "source": [
        "import java.io.*;\n",
        "import java.util.*;\n",
        "import java.text.*;\n",
        "import java.math.*;\n",
        "import java.util.regex.*;\n",
        "\n",
        "class Arithmetic {\n",
        "\n",
        "}\n",
        "class Adder extends Arithmetic {\n",
        "    public int add(int a, int b) \n",
        "    {\n",
        "        return a+b;\n",
        "    }\n",
        "}\n",
        "public class Solution{\n",
        "    public static void main(String []args){\n",
        "        // Create a new Adder object\n",
        "        Adder a = new Adder();\n",
        "        \n",
        "        // Print the name of the superclass on a new line\n",
        "        System.out.println(\"My superclass is: \" + a.getClass().getSuperclass().getName());\t\n",
        "        \n",
        "        // Print the result of 3 calls to Adder's `add(int,int)` method as 3 space-separated integers:\n",
        "        System.out.print(a.add(10,32) + \" \" + a.add(10,3) + \" \" + a.add(10,10) + \"\\n\");\n",
        "     }\n",
        "}"
      ],
      "execution_count": null,
      "outputs": []
    }
  ]
}